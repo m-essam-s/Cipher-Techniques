{
 "cells": [
  {
   "cell_type": "code",
   "execution_count": 1,
   "metadata": {},
   "outputs": [],
   "source": [
    "from math import ceil as _roundUp # ceil is a function that rounds up"
   ]
  },
  {
   "cell_type": "markdown",
   "metadata": {},
   "source": [
    "# Transposition Cipher"
   ]
  },
  {
   "cell_type": "code",
   "execution_count": 14,
   "metadata": {},
   "outputs": [],
   "source": [
    "\n",
    "def _keyHandler(_key):\n",
    "    _keyList = list(_key) # Convert the key to a list\n",
    "    _handledKey = list(dict.fromkeys(_keyList)) # Remove the duplicates from the key\n",
    "    if len(_keyList)==len(list(dict.fromkeys(_keyList))): # If the key is unique (Best case scenario)\n",
    "        return _key\n",
    "    else: # If the key is not unique (Worst case scenario)\n",
    "        _upperCasesList = [chr(65 + i) for i in range(26)] # List of upper case alphabets\n",
    "        _lowerCasesList = [chr(97 + i) for i in range(26)] # List of lower case alphabets\n",
    "        _spchialCasesList=list(\"!@#($%<^&*()_+}{:?)>=-`~[]\") # List of special characters\n",
    "        \n",
    "        _mixedCases=[] # Empty list of mixed cases\n",
    "        for i, j, k in zip(_upperCasesList, _spchialCasesList, _lowerCasesList[::-1]): # Loop through the lists\n",
    "            if i not in _handledKey and not(len(_handledKey)+len(_mixedCases)>=len(_key)): \n",
    "                _mixedCases.append(i) # Append the upper case character to the mixed cases list if it is not in the handled key and the length of the handled key '+' mixed cases is less than the length of the original key\n",
    "            if j not in _handledKey and not(len(_handledKey)+len(_mixedCases)>=len(_key)):\n",
    "                _mixedCases.append(j) # Append the special character to the mixed cases list if it is not in the handled key and the length of the handled key '+' mixed cases is less than the length of the original key\n",
    "            if k not in _handledKey and not(len(_handledKey)+len(_mixedCases)>=len(_key)):\n",
    "                _mixedCases.append(k) # Append the lower case character to the mixed cases list if it is not in the handled key and the length of the handled key '+' mixed cases is less than the length of the original key\n",
    "            if len(_handledKey)+len(_mixedCases)>=len(_key): # If the length of the handled key '+' mixed cases is greater than or equal to the length of the original key\n",
    "                break # Break the loop\n",
    "        \n",
    "        # Loop through the mixed cases to add fill missing characters in the handled key\n",
    "        for i in _mixedCases: \n",
    "            if i not in _handledKey:\n",
    "                _handledKey.append(i)\n",
    "                if len(_handledKey) == len(_key):\n",
    "                    break    \n",
    "        return \"\".join([i for i in _handledKey]) # Return the handled key"
   ]
  },
  {
   "cell_type": "code",
   "execution_count": 3,
   "metadata": {},
   "outputs": [],
   "source": [
    "\n",
    "def _encryption(_plainText, _key):\n",
    "    \n",
    "    _key=_keyHandler(_key) # Handle the key \n",
    "    \n",
    "    _noOfColumns = len(_key) # calculate column of the matrix\n",
    "    \n",
    "    # we will use ceil function to calculate the number of rows \n",
    "    # for example if the length of the plain text is 10 and the key is 3 \n",
    "    # the number of rows will be 4 cile(10/3) = ciel(3.333) = 4\n",
    "    _noOfRows = int(_roundUp(len(_plainText) / _noOfColumns)) # calculate maximum row of the matrix\n",
    "    \n",
    "    _plainTextList=list(_plainText) # Convert the plain text to a list\n",
    "    _sortedKeyList=sorted(list(_key)) # Sort the key\n",
    "    # add the padding character '_' in empty\n",
    "    # the empty cell of the matix \n",
    "    _numberOfNulls= int((_noOfRows * _noOfColumns) - len(_plainText)) # Calculate the number of nulls\n",
    "    _plainTextList.extend('_'*_numberOfNulls) # Extend the plain text list with the nulls\n",
    "    # create Matrix and insert message and \n",
    "    # padding characters row-wise\n",
    "    matrix = [_plainTextList[i: i + _noOfColumns] for i in range(0, len(_plainTextList), _noOfColumns)] # Create the matrix\n",
    "    \n",
    "    _cipherText = \"\" # Text after encryption\n",
    "    _keyIndex = 0 # Track key indices \n",
    "    # read matrix column-wise using key\n",
    "    for _ in range(_noOfColumns): # Loop through the columns\n",
    "        _currentIndex = _key.index(_sortedKeyList[_keyIndex]) # Get the current index of the key character in the sorted key list\n",
    "        _cipherText += ''.join([row[_currentIndex] for row in matrix]) # Join the characters in the matrix column-wise using the key\n",
    "        _keyIndex += 1 # Increment the key index\n",
    "    return _cipherText # Return the cipher text\n",
    "    "
   ]
  },
  {
   "cell_type": "code",
   "execution_count": 4,
   "metadata": {},
   "outputs": [],
   "source": [
    "def _decryption(_cipherText, _key):\n",
    "    \n",
    "    _key=_keyHandler(_key) # Handle the key\n",
    "    # calculate column of the matrix\n",
    "    _noOfColumns = len(_key) # calculate column of the matrix\n",
    "    # calculate maximum row of the matrix\n",
    "    _noOfRows = int(_roundUp(len(_cipherText) / _noOfColumns)) # calculate maximum row of the matrix\n",
    "    _sortedKeyList = sorted(list(_key)) # Sort the key\n",
    "    # Create a null matrix to store the decrypted cipher\n",
    "    dec_cipher = [] #  empty list\n",
    "    for _ in range(_noOfRows): # Loop through the rows\n",
    "        dec_cipher += [[None] * _noOfColumns] # Append the nulls to the matrix\n",
    "        \n",
    "    # Arrange the matrix column wise according \n",
    "    # to permutation order by adding into new matrix\n",
    "    _keyIndex=0 # Track key indices\n",
    "    _cipherTextIndex = 0 # track cipher text indices\n",
    "    for _ in range(_noOfColumns): # Loop through the columns\n",
    "        _currentIndex = _key.index(_sortedKeyList[_keyIndex]) # Get the current index of the key character in the sorted key list\n",
    "     \n",
    "        for j in range(_noOfRows): # Loop through the rows\n",
    "            dec_cipher[j][_currentIndex] = _cipherText[_cipherTextIndex] # Add the characters to the matrix\n",
    "            _cipherTextIndex += 1 # Increment the cipher text index\n",
    "        _keyIndex += 1 # Increment the key index\n",
    "    \n",
    "    # convert decrypted msg matrix into a string\n",
    "    _plainText=\"\" # Text empty Text to store the decrypted message\n",
    "    _plainText = ''.join(sum(dec_cipher, [])) # Join the characters in the matrix\n",
    "    \n",
    "    \n",
    "    null_count = _plainText.count('_') # Count the nulls\n",
    "\n",
    "    if null_count > 0: # If there are nulls\n",
    "        return _plainText[: -null_count] # Return the plain text without the nulls (Worst case scenario)\n",
    "    return _plainText # Return the plain text (Best case scenario)"
   ]
  },
  {
   "cell_type": "markdown",
   "metadata": {},
   "source": [
    "# Main Function"
   ]
  },
  {
   "cell_type": "code",
   "execution_count": 6,
   "metadata": {},
   "outputs": [
    {
     "name": "stdout",
     "output_type": "stream",
     "text": [
      "Encrypted Message:  nrni_nmtiUsilnt rgaeoniS nav_KaIale\n",
      "Decrypted Message: King Salman International Universi\n"
     ]
    }
   ],
   "source": [
    "if __name__ == \"__main__\":\n",
    "    \n",
    "    PlainText = \"King Salman International University\"\n",
    "    key=\"ZEBRAS\"\n",
    "        \n",
    "    print(f\"Encrypted Message: {_encryption(PlainText,key)}\") # Encrypt the plain text\n",
    "    print(f\"Decrypted Message: {_decryption(_encryption(PlainText,key),key)}\") # Decrypt the cipher text"
   ]
  },
  {
   "cell_type": "markdown",
   "metadata": {},
   "source": [
    "# More, more, and more"
   ]
  },
  {
   "cell_type": "code",
   "execution_count": 7,
   "metadata": {},
   "outputs": [
    {
     "name": "stdout",
     "output_type": "stream",
     "text": [
      "Encrypted Message: KaIalegaeoniilnt rnmtiUsS nav_ nrnit\n",
      "Decrypted Message: King Salman International Universit\n"
     ]
    }
   ],
   "source": [
    "if __name__ == \"__main__\":\n",
    "    # PlainText = \"My name is Mohamed Essam Saeid, I'm a software engineering student at KSIU\" # Plain text\n",
    "    # key = \"HackingIsFun\" # Key\n",
    "    \n",
    "    \n",
    "    PlainText = \"King Salman International Universit\" # Plain text\n",
    "    # King Salman International University\n",
    "\n",
    "    # key = \"JOKE\"\n",
    "    key = \"356487\" \n",
    "    if type(PlainText) != str or type(key) != str: # If the plain text or the key is not a string\n",
    "        print(\"The plain text and the key must be a string\") # Raise a  type error\n",
    "        exit() # Exit the program\n",
    "        \n",
    "    if len(key) != len(list(dict.fromkeys(key))): # If the key is not unique\n",
    "        print(\"The key is not unique.\")\n",
    "            \n",
    "        print(\"But it can handle repeating characters.\")\n",
    "        chois=input(\"Do you want to continue? (y/n): \") # Ask the user if they want to continue\n",
    "        if chois.lower() != \"y\": # If the user does not want to continue\n",
    "            exit()\n",
    "        print(\"The key after handling: \",_keyHandler(key))\n",
    "    \n",
    "    # print(\"key after handling: \",_keyHandler(key)) # Handle the key\n",
    "    # print(\"sorted key: \",sorted(list(_keyHandler(key)))) # Sort the key\n",
    "    print(f\"Encrypted Message: {_encryption(PlainText,key)}\") # Encrypt the plain text\n",
    "    print(f\"Decrypted Message: {_decryption(_encryption(PlainText,key),key)}\") # Decrypt the cipher text"
   ]
  }
 ],
 "metadata": {
  "kernelspec": {
   "display_name": "Python 3",
   "language": "python",
   "name": "python3"
  },
  "language_info": {
   "codemirror_mode": {
    "name": "ipython",
    "version": 3
   },
   "file_extension": ".py",
   "mimetype": "text/x-python",
   "name": "python",
   "nbconvert_exporter": "python",
   "pygments_lexer": "ipython3",
   "version": "3.12.3"
  }
 },
 "nbformat": 4,
 "nbformat_minor": 2
}
